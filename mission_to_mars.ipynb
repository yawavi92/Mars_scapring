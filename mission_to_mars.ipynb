{
 "cells": [
  {
   "cell_type": "code",
   "execution_count": 1,
   "source": [
    "# Dependencies\r\n",
    "from bs4 import BeautifulSoup as bs\r\n",
    "import requests\r\n",
    "import pymongo\r\n",
    "from splinter import Browser\r\n",
    "from webdriver_manager.chrome import ChromeDriverManager\r\n",
    "import pandas as pd"
   ],
   "outputs": [],
   "metadata": {}
  },
  {
   "cell_type": "raw",
   "source": [
    " Step 1 - Scraping"
   ],
   "metadata": {}
  },
  {
   "cell_type": "code",
   "execution_count": 2,
   "source": [
    "#setup splinter\r\n",
    "executable_path = {'executable_path': ChromeDriverManager().install()}\r\n",
    "browser = Browser('chrome', **executable_path, headless=False)\r\n"
   ],
   "outputs": [
    {
     "output_type": "stream",
     "name": "stderr",
     "text": [
      "\n",
      "\n",
      "====== WebDriver manager ======\n",
      "Current google-chrome version is 93.0.4577\n",
      "Get LATEST driver version for 93.0.4577\n",
      "Driver [C:\\Users\\carol\\.wdm\\drivers\\chromedriver\\win32\\93.0.4577.63\\chromedriver.exe] found in cache\n"
     ]
    }
   ],
   "metadata": {}
  },
  {
   "cell_type": "code",
   "execution_count": 3,
   "source": [
    "# Save url and visit the page\r\n",
    "url = 'https://redplanetscience.com/'\r\n",
    "browser.visit(url)"
   ],
   "outputs": [],
   "metadata": {}
  },
  {
   "cell_type": "code",
   "execution_count": 4,
   "source": [
    "html = browser.html\r\n",
    "soup = bs(html, \"html.parser\")"
   ],
   "outputs": [],
   "metadata": {}
  },
  {
   "cell_type": "code",
   "execution_count": 5,
   "source": [
    "#collect the latest tand extract text News Title form html document \r\n",
    "title = soup.find('div', class_='content_title').text\r\n",
    "#collect Paragraph Text \r\n",
    "new_p = soup.find('div', class_='article_teaser_body').text\r\n",
    "# Print title and paragraph\r\n",
    "print(title)\r\n",
    "print('------------------------------------------------------')\r\n",
    "print(new_p)"
   ],
   "outputs": [
    {
     "output_type": "stream",
     "name": "stdout",
     "text": [
      "NASA's Perseverance Rover Goes Through Trials by Fire, Ice, Light and Sound\n",
      "------------------------------------------------------\n",
      "The agency's new Mars rover is put through a series of tests in vacuum chambers, acoustic chambers and more to get ready for the Red Planet.\n"
     ]
    }
   ],
   "metadata": {}
  },
  {
   "cell_type": "code",
   "execution_count": 6,
   "source": [
    "# get the image url\r\n",
    "url=\"https://spaceimages-mars.com/\"\r\n",
    "browser.visit(url)\r\n",
    "\r\n",
    "# set the path\r\n",
    "xpath = \"/html/body/div[1]/img\"\r\n",
    "#bring the full resolution\r\n",
    "full = browser.find_by_xpath(xpath)\r\n",
    "image_ = full[0]\r\n",
    "image_.click()"
   ],
   "outputs": [],
   "metadata": {}
  },
  {
   "cell_type": "code",
   "execution_count": 7,
   "source": [
    "#create a beautiful object\r\n",
    "html = browser.html\r\n",
    "soup = bs(html, \"html.parser\")\r\n",
    "image_url = soup.find(\"img\", class_=\"headerimage fade-in\")[\"src\"]\r\n",
    "#concatenate to find the image url\r\n",
    "featured_image_url = url + image_url\r\n",
    "featured_image_url"
   ],
   "outputs": [
    {
     "output_type": "execute_result",
     "data": {
      "text/plain": [
       "'https://spaceimages-mars.com/image/featured/mars1.jpg'"
      ]
     },
     "metadata": {},
     "execution_count": 7
    }
   ],
   "metadata": {}
  },
  {
   "cell_type": "raw",
   "source": [
    "Mars Facts"
   ],
   "metadata": {}
  },
  {
   "cell_type": "code",
   "execution_count": 8,
   "source": [
    "#set the URL\r\n",
    "url =\"https://galaxyfacts-mars.com/\"\r\n",
    "\r\n",
    "#Extract the Facts Table from the URL using pandas\r\n",
    "tables = pd.read_html(url)\r\n",
    "tables"
   ],
   "outputs": [
    {
     "output_type": "execute_result",
     "data": {
      "text/plain": [
       "[                         0                1                2\n",
       " 0  Mars - Earth Comparison             Mars            Earth\n",
       " 1                Diameter:         6,779 km        12,742 km\n",
       " 2                    Mass:  6.39 × 10^23 kg  5.97 × 10^24 kg\n",
       " 3                   Moons:                2                1\n",
       " 4       Distance from Sun:   227,943,824 km   149,598,262 km\n",
       " 5          Length of Year:   687 Earth days      365.24 days\n",
       " 6             Temperature:     -87 to -5 °C      -88 to 58°C,\n",
       "                       0                              1\n",
       " 0  Equatorial Diameter:                       6,792 km\n",
       " 1       Polar Diameter:                       6,752 km\n",
       " 2                 Mass:  6.39 × 10^23 kg (0.11 Earths)\n",
       " 3                Moons:          2 ( Phobos & Deimos )\n",
       " 4       Orbit Distance:       227,943,824 km (1.38 AU)\n",
       " 5         Orbit Period:           687 days (1.9 years)\n",
       " 6  Surface Temperature:                   -87 to -5 °C\n",
       " 7         First Record:              2nd millennium BC\n",
       " 8          Recorded By:           Egyptian astronomers]"
      ]
     },
     "metadata": {},
     "execution_count": 8
    }
   ],
   "metadata": {}
  },
  {
   "cell_type": "code",
   "execution_count": 9,
   "source": [
    "# set the columns in the dataframes\n",
    "mars_df = tables[1]\n",
    "mars_df.rename(columns ={0 :'Description', 1: 'Dimension'}, inplace = True)\n",
    "mars_df"
   ],
   "outputs": [
    {
     "output_type": "execute_result",
     "data": {
      "text/html": [
       "<div>\n",
       "<style scoped>\n",
       "    .dataframe tbody tr th:only-of-type {\n",
       "        vertical-align: middle;\n",
       "    }\n",
       "\n",
       "    .dataframe tbody tr th {\n",
       "        vertical-align: top;\n",
       "    }\n",
       "\n",
       "    .dataframe thead th {\n",
       "        text-align: right;\n",
       "    }\n",
       "</style>\n",
       "<table border=\"1\" class=\"dataframe\">\n",
       "  <thead>\n",
       "    <tr style=\"text-align: right;\">\n",
       "      <th></th>\n",
       "      <th>Description</th>\n",
       "      <th>Dimension</th>\n",
       "    </tr>\n",
       "  </thead>\n",
       "  <tbody>\n",
       "    <tr>\n",
       "      <th>0</th>\n",
       "      <td>Equatorial Diameter:</td>\n",
       "      <td>6,792 km</td>\n",
       "    </tr>\n",
       "    <tr>\n",
       "      <th>1</th>\n",
       "      <td>Polar Diameter:</td>\n",
       "      <td>6,752 km</td>\n",
       "    </tr>\n",
       "    <tr>\n",
       "      <th>2</th>\n",
       "      <td>Mass:</td>\n",
       "      <td>6.39 × 10^23 kg (0.11 Earths)</td>\n",
       "    </tr>\n",
       "    <tr>\n",
       "      <th>3</th>\n",
       "      <td>Moons:</td>\n",
       "      <td>2 ( Phobos &amp; Deimos )</td>\n",
       "    </tr>\n",
       "    <tr>\n",
       "      <th>4</th>\n",
       "      <td>Orbit Distance:</td>\n",
       "      <td>227,943,824 km (1.38 AU)</td>\n",
       "    </tr>\n",
       "    <tr>\n",
       "      <th>5</th>\n",
       "      <td>Orbit Period:</td>\n",
       "      <td>687 days (1.9 years)</td>\n",
       "    </tr>\n",
       "    <tr>\n",
       "      <th>6</th>\n",
       "      <td>Surface Temperature:</td>\n",
       "      <td>-87 to -5 °C</td>\n",
       "    </tr>\n",
       "    <tr>\n",
       "      <th>7</th>\n",
       "      <td>First Record:</td>\n",
       "      <td>2nd millennium BC</td>\n",
       "    </tr>\n",
       "    <tr>\n",
       "      <th>8</th>\n",
       "      <td>Recorded By:</td>\n",
       "      <td>Egyptian astronomers</td>\n",
       "    </tr>\n",
       "  </tbody>\n",
       "</table>\n",
       "</div>"
      ],
      "text/plain": [
       "            Description                      Dimension\n",
       "0  Equatorial Diameter:                       6,792 km\n",
       "1       Polar Diameter:                       6,752 km\n",
       "2                 Mass:  6.39 × 10^23 kg (0.11 Earths)\n",
       "3                Moons:          2 ( Phobos & Deimos )\n",
       "4       Orbit Distance:       227,943,824 km (1.38 AU)\n",
       "5         Orbit Period:           687 days (1.9 years)\n",
       "6  Surface Temperature:                   -87 to -5 °C\n",
       "7         First Record:              2nd millennium BC\n",
       "8          Recorded By:           Egyptian astronomers"
      ]
     },
     "metadata": {},
     "execution_count": 9
    }
   ],
   "metadata": {}
  },
  {
   "cell_type": "code",
   "execution_count": 10,
   "source": [
    "#convert the dataframe back to html format\n",
    "fact = mars_df.to_html(classes = 'table table-striped th-align-left table-bordered')\n",
    "fact"
   ],
   "outputs": [
    {
     "output_type": "execute_result",
     "data": {
      "text/plain": [
       "'<table border=\"1\" class=\"dataframe table table-striped th-align-left table-bordered\">\\n  <thead>\\n    <tr style=\"text-align: right;\">\\n      <th></th>\\n      <th>Description</th>\\n      <th>Dimension</th>\\n    </tr>\\n  </thead>\\n  <tbody>\\n    <tr>\\n      <th>0</th>\\n      <td>Equatorial Diameter:</td>\\n      <td>6,792 km</td>\\n    </tr>\\n    <tr>\\n      <th>1</th>\\n      <td>Polar Diameter:</td>\\n      <td>6,752 km</td>\\n    </tr>\\n    <tr>\\n      <th>2</th>\\n      <td>Mass:</td>\\n      <td>6.39 × 10^23 kg (0.11 Earths)</td>\\n    </tr>\\n    <tr>\\n      <th>3</th>\\n      <td>Moons:</td>\\n      <td>2 ( Phobos &amp; Deimos )</td>\\n    </tr>\\n    <tr>\\n      <th>4</th>\\n      <td>Orbit Distance:</td>\\n      <td>227,943,824 km (1.38 AU)</td>\\n    </tr>\\n    <tr>\\n      <th>5</th>\\n      <td>Orbit Period:</td>\\n      <td>687 days (1.9 years)</td>\\n    </tr>\\n    <tr>\\n      <th>6</th>\\n      <td>Surface Temperature:</td>\\n      <td>-87 to -5 °C</td>\\n    </tr>\\n    <tr>\\n      <th>7</th>\\n      <td>First Record:</td>\\n      <td>2nd millennium BC</td>\\n    </tr>\\n    <tr>\\n      <th>8</th>\\n      <td>Recorded By:</td>\\n      <td>Egyptian astronomers</td>\\n    </tr>\\n  </tbody>\\n</table>'"
      ]
     },
     "metadata": {},
     "execution_count": 10
    }
   ],
   "metadata": {}
  },
  {
   "cell_type": "raw",
   "source": [
    "Mars Hemispheres"
   ],
   "metadata": {}
  },
  {
   "cell_type": "code",
   "execution_count": 11,
   "source": [
    "#extract the image from html file\r\n",
    "url =\"https://marshemispheres.com/\"\r\n",
    "browser.visit(url)\r\n",
    "\r\n",
    "#create a beautiful object\r\n",
    "html = browser.html\r\n",
    "soup = bs(html, \"html.parser\")"
   ],
   "outputs": [],
   "metadata": {}
  },
  {
   "cell_type": "markdown",
   "source": [
    "Step 2 - MongoDB and Flask Application"
   ],
   "metadata": {}
  },
  {
   "cell_type": "code",
   "execution_count": 12,
   "source": [
    "# Extract the hemisphere element\n",
    "results = soup.find(\"div\", class_=\"collapsible results\")\n",
    "hemispheres = results.find_all(\"div\", class_=\"item\")\n",
    "#create the list to store the image urls\n",
    "hemisphere_image_urls=[]\n",
    "\n",
    "#Iterate trough each image\n",
    "for hemisphere in hemispheres :\n",
    "    # Scrape the titles\n",
    "    title = hemisphere.find(\"h3\").text\n",
    "    \n",
    "    # the hem links\n",
    "    link = hemisphere.find(\"a\")[\"href\"]\n",
    "    url =\"https://marshemispheres.com/\"\n",
    "    hem_link = url + link    \n",
    "    browser.visit(hem_link)\n",
    "    \n",
    "    # Parse link HTMLs with Beautiful Soup\n",
    "    html = browser.html\n",
    "    soup = bs(html, \"html.parser\")\n",
    "    \n",
    "    # Scrape the full size images\n",
    "    load = soup.find(\"div\", class_=\"downloads\")\n",
    "    load_url = load.find(\"a\")[\"href\"]\n",
    "    \n",
    "    # Add URLs and Titles \n",
    "    hemisphere_image_urls.append({\"title\": title, \"image_url\": url + load_url})\n",
    "\n",
    "# Print image title and url\n",
    "print(hemisphere_image_urls)"
   ],
   "outputs": [
    {
     "output_type": "stream",
     "name": "stdout",
     "text": [
      "[{'title': 'Cerberus Hemisphere Enhanced', 'image_url': 'https://marshemispheres.com/images/full.jpg'}, {'title': 'Schiaparelli Hemisphere Enhanced', 'image_url': 'https://marshemispheres.com/images/schiaparelli_enhanced-full.jpg'}, {'title': 'Syrtis Major Hemisphere Enhanced', 'image_url': 'https://marshemispheres.com/images/syrtis_major_enhanced-full.jpg'}, {'title': 'Valles Marineris Hemisphere Enhanced', 'image_url': 'https://marshemispheres.com/images/valles_marineris_enhanced-full.jpg'}]\n"
     ]
    }
   ],
   "metadata": {}
  },
  {
   "cell_type": "code",
   "execution_count": 13,
   "source": [
    "# Finally, close the Google Chrome window...\n",
    "browser.quit()"
   ],
   "outputs": [],
   "metadata": {}
  },
  {
   "cell_type": "raw",
   "source": [
    "Step 2 - MongoDB and Flask Application"
   ],
   "metadata": {}
  },
  {
   "cell_type": "raw",
   "source": [
    "Use MongoDB with Flask templating to create a new HTML page that displays all of the information that was scraped from the URLs above.\r\n",
    "\r\n",
    "Start by converting your Jupyter notebook into a Python script called `scrape_mars.py` with a function called `scrape` that will execute all of your scraping code from above and return one Python dictionary containing all of the scraped data.\r\n",
    "\r\n",
    "Next, create a route called `/scrape` that will import your `scrape_mars.py` script and call your `scrape` function.\r\n",
    "\r\n",
    "Store the return value in Mongo as a Python dictionary.\r\n",
    "\r\n",
    "Create a root route `/` that will query your Mongo database and pass the mars data into an HTML template to display the data.\r\n",
    "\r\n",
    "Create a template HTML file called `index.html` that will take the mars data dictionary and display all of the data in the appropriate HTML elements. Use the following as a guide for what the final product should look like, but feel free to create your own design."
   ],
   "metadata": {}
  },
  {
   "cell_type": "raw",
   "source": [
    "Step 3 - Submission"
   ],
   "metadata": {}
  },
  {
   "cell_type": "raw",
   "source": [
    "To submit your work to BootCampSpot, create a new GitHub repository and upload the following:\r\n",
    "\r\n",
    "1. The Jupyter Notebook containing the scraping code used.\r\n",
    "\r\n",
    "2. Screenshots of your final application.\r\n",
    "\r\n",
    "3. Submit the link to your new repository to BootCampSpot.\r\n",
    "\r\n",
    "4. Ensure your repository has regular commits and a thorough README.md file\r\n",
    "\r\n",
    "## Hints\r\n",
    "\r\n",
    "* Use Splinter to navigate the sites when needed and BeautifulSoup to help find and parse out the necessary data.\r\n",
    "\r\n",
    "* Use Pymongo for CRUD applications for your database. For this homework, you can simply overwrite the existing document each time the `/scrape` url is visited and new data is obtained.\r\n",
    "\r\n",
    "* Use Bootstrap to structure your HTML template.\r\n"
   ],
   "metadata": {}
  }
 ],
 "metadata": {
  "kernelspec": {
   "display_name": "Python 3",
   "language": "python",
   "name": "python3"
  },
  "language_info": {
   "codemirror_mode": {
    "name": "ipython",
    "version": 3
   },
   "file_extension": ".py",
   "mimetype": "text/x-python",
   "name": "python",
   "nbconvert_exporter": "python",
   "pygments_lexer": "ipython3",
   "version": "3.8.8"
  }
 },
 "nbformat": 4,
 "nbformat_minor": 5
}